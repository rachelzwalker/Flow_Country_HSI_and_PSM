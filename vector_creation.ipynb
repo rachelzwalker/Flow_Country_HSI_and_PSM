{
 "cells": [
  {
   "cell_type": "markdown",
   "id": "b43b7401",
   "metadata": {},
   "source": [
    "# Vector Creation\n",
    "\n",
    "## Usage\n",
    "\n",
    "Update the constants below to work with your file structure\n",
    "\n",
    "HYPERSPECRAL_RASTER_TIF_PATH this should be the path to a tif file cointaining the hyperspectral data to be converted to a vector containing all attributes.\n",
    "\n",
    "NUMBER_OF_BANDS this is the number of bands in the dataset following pre-processing.\n",
    "\n",
    "GEOMETRY_FILE this is the file containing the geometry of each point in the raster (can extract from GIS by converting the raster (tif file) to point data with one attribute. The attribute table can be copied to Excel and saved as a csv for use.\n",
    "\n",
    "VECTOR_SHP_PATH this will be where the generated data is placed for as a shape file to be used in GIS and further analysis. \n",
    "\n",
    "VECTOR_CSV_PATH this will be where the generated data is placed for further anlaysis."
   ]
  },
  {
   "cell_type": "code",
   "execution_count": null,
   "id": "a663bcb5",
   "metadata": {},
   "outputs": [],
   "source": [
    "HYPERSPECRAL_RASTER_TIF_PATH = 'preprocessed_data/hyperspectral_data_for_site.tif'\n",
    "NUMBER_OF_BANDS = 358\n",
    "GEOMETRY_FILE = 'preprocessed_data/geometry_file_for_site.csv'\n",
    "VECTOR_SHP_PATH = 'vector/site_name.shp'\n",
    "VECTOR_CSV_PATH = 'vector/site_name.csv'"
   ]
  },
  {
   "cell_type": "code",
   "execution_count": null,
   "id": "9d8a1abf",
   "metadata": {},
   "outputs": [],
   "source": [
    "import pandas as pd\n",
    "import geopandas\n",
    "import rasterio as rio\n",
    "data = rio.open(HYPERSPECRAL_RASTER_TIF_PATH)\n",
    "\n",
    "print(data.transform)\n",
    "lat_long_NW = data.transform * (0, 0)\n",
    "print(lat_long_NW)\n",
    "lat_long_SE = data.transform * (data.width, data.height)\n",
    "print(lat_long_SE)\n",
    "print(data.crs)\n",
    "\n",
    "# read bands\n",
    "array = data.read()\n",
    "\n",
    "data_df = pd.DataFrame()\n",
    "\n",
    "array_num = 0\n",
    "band_num = 1\n",
    "min_lat = lat_long_NW[0]\n",
    "min_long = lat_long_SE[1]\n",
    "max_lat = lat_long_SE[0]\n",
    "max_long = lat_long_NW[1]\n",
    "\n",
    "for num in range(NUMBER_OF_BANDS):\n",
    "    data_df['band' +str(band_num)]=array[array_num].ravel()\n",
    "    array_num += 1\n",
    "    band_num += 1\n",
    "\n",
    "data_df.head()"
   ]
  },
  {
   "cell_type": "code",
   "execution_count": null,
   "id": "68679827",
   "metadata": {},
   "outputs": [],
   "source": [
    "data_df[\"POINTID\"] = \"\"\n",
    "\n",
    "\n",
    "index_num = 0\n",
    "point_num = 1\n",
    "\n",
    "for index, row in data_df.iterrows():\n",
    "    data_df.iloc[index_num, NUMBER_OF_BANDS] = point_num\n",
    "    point_num += 1\n",
    "    index_num += 1\n",
    "    \n",
    "data_df.head()"
   ]
  },
  {
   "cell_type": "code",
   "execution_count": null,
   "id": "fd55899a",
   "metadata": {},
   "outputs": [],
   "source": [
    "geometry_file = pd.read_csv(GEOMETRY_FILE)\n",
    "\n",
    "data_gdf = pd.merge(data_df, geometry_file, on=\"POINTID\")\n",
    "\n",
    "data_gdf = data_gdf.rename(columns={\"wkt_geom\": \"geometry\"})"
   ]
  },
  {
   "cell_type": "code",
   "execution_count": null,
   "id": "a5803a7b",
   "metadata": {},
   "outputs": [],
   "source": [
    "from shapely.geometry import Point\n",
    "\n",
    "data_gdf['geometry'] = geopandas.GeoSeries.from_wkt(data_gdf['geometry'])\n",
    "\n",
    "gdf = geopandas.GeoDataFrame(data_gdf, geometry='geometry')"
   ]
  },
  {
   "cell_type": "code",
   "execution_count": null,
   "id": "eb5d9d5f",
   "metadata": {},
   "outputs": [],
   "source": [
    "gdf.to_file(VECTOR_SHP_PATH)\n",
    "gdf.to_csv(VECTOR_CSV_PATH)"
   ]
  }
 ],
 "metadata": {
  "kernelspec": {
   "display_name": "Python 3 (ipykernel)",
   "language": "python",
   "name": "python3"
  },
  "language_info": {
   "codemirror_mode": {
    "name": "ipython",
    "version": 3
   },
   "file_extension": ".py",
   "mimetype": "text/x-python",
   "name": "python",
   "nbconvert_exporter": "python",
   "pygments_lexer": "ipython3",
   "version": "3.8.10"
  },
  "varInspector": {
   "cols": {
    "lenName": 16,
    "lenType": 16,
    "lenVar": 40
   },
   "kernels_config": {
    "python": {
     "delete_cmd_postfix": "",
     "delete_cmd_prefix": "del ",
     "library": "var_list.py",
     "varRefreshCmd": "print(var_dic_list())"
    },
    "r": {
     "delete_cmd_postfix": ") ",
     "delete_cmd_prefix": "rm(",
     "library": "var_list.r",
     "varRefreshCmd": "cat(var_dic_list()) "
    }
   },
   "types_to_exclude": [
    "module",
    "function",
    "builtin_function_or_method",
    "instance",
    "_Feature"
   ],
   "window_display": false
  }
 },
 "nbformat": 4,
 "nbformat_minor": 5
}
