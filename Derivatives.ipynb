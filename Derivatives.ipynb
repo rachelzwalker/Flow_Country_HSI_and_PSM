{
 "cells": [
  {
   "cell_type": "markdown",
   "id": "5b824995",
   "metadata": {},
   "source": [
    "# First and Second Derivatives\n",
    "\n",
    "## Usage\n",
    "\n",
    "Update the constants below to work with your file structure\n",
    "\n",
    "HYPERSPECRAL_VECTOR_CSV_PATH this should be the path to a csv file cointaining the hyperspectral data to be transformed into first and second derivative data (following all pre-precessing such as atmospheric water vapour removal). \n",
    "\n",
    "WAVELENGTHS_CSV_PATH this should be the path to a csv file containing the wavelengths included in the hyperspectral data. \n",
    "\n",
    "OUTPUT_CSV_PATH_FIRST_DERIVATIVE this will be where the generated data is placed for the first deviative outputs.\n",
    "\n",
    "OUTPUT_CSV_PATH_SECOND_DERIVATIVE this will be where the generated data is placed for the second deviative outputs."
   ]
  },
  {
   "cell_type": "code",
   "execution_count": null,
   "id": "95914e88",
   "metadata": {},
   "outputs": [],
   "source": [
    "HYPERSPECRAL_VECTOR_CSV_PATH = 'preprocessed_data/site_with_hyperspectral_data.csv'\n",
    "WAVELENGTHS_CSV_PATH = 'preprocessed_data/wavelength_data.csv'\n",
    "OUTPUT_CSV_PATH_FIRST_DERIVATIVE = 'transformed_data/first_derivative.csv'\n",
    "OUTPUT_CSV_PATH_SECOND_DERIVATIVE = 'transformed_data/second_derivative.csv'"
   ]
  },
  {
   "cell_type": "code",
   "execution_count": null,
   "id": "667dc3b1",
   "metadata": {},
   "outputs": [],
   "source": [
    "import pandas as pd\n",
    "import geopandas\n",
    "data = pd.read_csv(HYPERSPECRAL_VECTOR_CSV_PATH)\n",
    "\n",
    "data['geometry'] = geopandas.GeoSeries.from_wkt(data['geometry'])\n",
    "\n",
    "data_gdf = geopandas.GeoDataFrame(data, geometry='geometry')\n",
    "\n",
    "data_gdf"
   ]
  },
  {
   "cell_type": "code",
   "execution_count": null,
   "id": "ca69d6a5",
   "metadata": {},
   "outputs": [],
   "source": [
    "wavelengths = pd.read_csv(WAVELENGTHS_CSV_PATH)\n",
    "\n",
    "sample = 0\n",
    "\n",
    "count_row = data_gdf.shape[0]\n",
    "\n",
    "first_derivative = wavelengths\n",
    "second_derivative = wavelengths\n",
    "\n",
    "# create individual wavelength tables for each sample - use a for loop - extract the row based on the sample number\n",
    "# transpose, create full table of derivatives - give the tables names based on PFT (link to PFT column) and number - if PFT == prev +1, otherwise start at 1\n",
    "\n",
    "for num in range(count_row):\n",
    "    absorption_all_cols = data_gdf.loc[[sample]]\n",
    "    absorption = absorption_all_cols.iloc[:, 1:359]\n",
    "    original_spectra = absorption.transpose()\n",
    "    original_spectra = original_spectra.rename(columns={sample: 'Original Spectra'})\n",
    "    #original_spectra = original_spectra.rename(index={0:357}) # want to rename to match the other dataframe\n",
    "    original_spectra = original_spectra.reset_index()\n",
    "    #derivatives = pd.DataFrame(wavelengths)\n",
    "    derivatives = pd.concat([wavelengths,original_spectra], axis=1)\n",
    "    derivatives.tail()\n",
    "    #derivatives[\"First Derivative\"] = ('Original Spectra' / 'Wavelength') # don't know how to write the equation here - see excel (interaction between rows as well as columns)\n",
    "    derivatives[\"Shifted_wavelength\"] = derivatives[\"Wavelength\"].shift(-1, fill_value=0)\n",
    "    derivatives[\"Shifted_original_spectra\"] = derivatives[\"Original Spectra\"].shift(-1, fill_value=0)\n",
    "    derivatives[\"First_derivative\"] = (derivatives[\"Shifted_original_spectra\"] - derivatives[\"Original Spectra\"]) / (derivatives[\"Shifted_wavelength\"] - derivatives[\"Wavelength\"])\n",
    "    derivatives[\"Second_derivative\"] = (derivatives[\"Shifted_original_spectra\"] - derivatives[\"Original Spectra\"]*2) / (derivatives[\"Shifted_wavelength\"] - derivatives[\"Wavelength\"])**2\n",
    "    # name the table and add to two additional tables - a first derivative one and a second derivative one\n",
    "    # need to improve naming of columns to include PFT and number\n",
    "    first_derivative[\"sample\"] = derivatives[[\"First_derivative\"]]\n",
    "    first_derivative = first_derivative.rename(columns = {\"sample\": sample})\n",
    "    second_derivative[\"sample\"] = derivatives[[\"Second_derivative\"]]\n",
    "    second_derivative = second_derivative.rename(columns = {\"sample\": sample})\n",
    "    sample += 1\n",
    "\n",
    "\n",
    "second_derivative\n"
   ]
  },
  {
   "cell_type": "code",
   "execution_count": 5,
   "id": "2bb7e1ca",
   "metadata": {},
   "outputs": [],
   "source": [
    "#change the name of headings to reflect PFT\n",
    "\n",
    "first_derivative_transposed = first_derivative.transpose()\n",
    "first_derivative_transposed = first_derivative_transposed.drop('Wavelength')\n",
    "first_derivative_transposed\n",
    "\n",
    "second_derivative_transposed = second_derivative.transpose()\n",
    "second_derivative_transposed = second_derivative_transposed.drop('Wavelength')\n",
    "second_derivative_transposed\n",
    "\n",
    "# pft = data_gdf[['PFT']]\n",
    "geometry = data_gdf[['geometry']]\n",
    "# # first_derivative_transposed['PFT'] = pft\n",
    "first_derivative_transposed['geometry'] = geometry\n",
    "\n",
    "# second_derivative_transposed['PFT'] = pft\n",
    "second_derivative_transposed['geometry'] = geometry\n",
    "\n",
    "# first_derivative_transposed['geometry'] = geopandas.GeoSeries.from_wkt(first_derivative_transposed['geometry'])\n",
    "# first_derivative_gdf = geopandas.GeoDataFrame(first_derivative_transposed, geometry='geometry')\n",
    "\n",
    "# first_derivative_gdf\n",
    "\n",
    "first_derivative_transposed.to_csv(OUTPUT_CSV_PATH_FIRST_DERIVATIVE)\n",
    "second_derivative_transposed.to_csv(OUTPUT_CSV_PATH_SECOND_DERIVATIVE)"
   ]
  }
 ],
 "metadata": {
  "kernelspec": {
   "display_name": "Python 3 (ipykernel)",
   "language": "python",
   "name": "python3"
  },
  "language_info": {
   "codemirror_mode": {
    "name": "ipython",
    "version": 3
   },
   "file_extension": ".py",
   "mimetype": "text/x-python",
   "name": "python",
   "nbconvert_exporter": "python",
   "pygments_lexer": "ipython3",
   "version": "3.8.10"
  },
  "varInspector": {
   "cols": {
    "lenName": 16,
    "lenType": 16,
    "lenVar": 40
   },
   "kernels_config": {
    "python": {
     "delete_cmd_postfix": "",
     "delete_cmd_prefix": "del ",
     "library": "var_list.py",
     "varRefreshCmd": "print(var_dic_list())"
    },
    "r": {
     "delete_cmd_postfix": ") ",
     "delete_cmd_prefix": "rm(",
     "library": "var_list.r",
     "varRefreshCmd": "cat(var_dic_list()) "
    }
   },
   "types_to_exclude": [
    "module",
    "function",
    "builtin_function_or_method",
    "instance",
    "_Feature"
   ],
   "window_display": false
  }
 },
 "nbformat": 4,
 "nbformat_minor": 5
}
