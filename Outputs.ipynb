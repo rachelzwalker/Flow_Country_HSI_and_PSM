{
 "cells": [
  {
   "cell_type": "markdown",
   "id": "4b2a6f29",
   "metadata": {},
   "source": [
    "# Confusion Matrix\n",
    "\n",
    "## Usage\n",
    "\n",
    "Update the constants below to work with your file structure\n",
    "\n",
    "PATH_TO_PYCHARM_LIBRARY this is the file path to the PyCharm library to be used\n",
    "\n",
    "DATASETS this is the csv path (or csv paths if files need to be merged) to compare to the train-test dataset. In the example below, there are four files to be merged.\n",
    "\n",
    "TRAIN_TEST_DATA_CSV_PATH this is the csv path to the training and testing data (this could be interchanged with other data being used for comparison).\n",
    "\n",
    "NAME this is the name to be included in the output file name\n",
    "\n",
    "OUTPUT_DIRECTORY this is the name of the file to which the confusion matric csv should be saved to\n"
   ]
  },
  {
   "cell_type": "code",
   "execution_count": null,
   "id": "22b384f0",
   "metadata": {},
   "outputs": [],
   "source": [
    "PATH_TO_PYCHARM_LIBRARY = cd /mnt/c/Users/.../hyperspectral_machine_learning\n",
    "\n",
    "DATASETS = [\n",
    "    data_to_input('site_name_1', 'outputs/site_top_classification_predictions.csv'), \n",
    "    data_to_input('site_name_2', 'outputs/site_top_classification_predictions.csv'),\n",
    "    data_to_input('site_name_3', 'outputs/site_top_classification_predictions.csv'),\n",
    "    data_to_input('site_name_4', 'outputs/site_top_classification_predictions.csv')\n",
    "    ]\n",
    "\n",
    "TRAIN_TEST_DATA_CSV_PATH = 'train_test_data.csv'\n",
    "\n",
    "NAME = 'confusion_matrixc_name'\n",
    "OUTPUT_DIRECTORY = 'outputs'"
   ]
  },
  {
   "cell_type": "code",
   "execution_count": null,
   "id": "e74c848f",
   "metadata": {},
   "outputs": [],
   "source": [
    "PATH_TO_PYCHARM_LIBRARY"
   ]
  },
  {
   "cell_type": "code",
   "execution_count": null,
   "id": "003bd5bb",
   "metadata": {},
   "outputs": [],
   "source": [
    "%load_ext autoreload\n",
    "%autoreload 2"
   ]
  },
  {
   "cell_type": "code",
   "execution_count": null,
   "id": "d7df3fd3",
   "metadata": {},
   "outputs": [],
   "source": [
    "import importlib\n",
    "import hyperspectral_machine_learning as hml"
   ]
  },
  {
   "cell_type": "code",
   "execution_count": null,
   "id": "3cb3e0b8",
   "metadata": {},
   "outputs": [],
   "source": [
    "hml.confusion_outputs(DATASETS, TRAIN_TEST_DATA_CSV_PATH, NAME, OUTPUT_DIRECTORY)"
   ]
  },
  {
   "cell_type": "markdown",
   "id": "b30bf40a",
   "metadata": {},
   "source": [
    "# PSM machine learning analysis\n",
    "\n",
    "## Usage\n",
    "\n",
    "Update the constants below to work with your file structure\n",
    "\n",
    "COMBINED_PFT_CLASSES_WITH_PSM_ATTRIBUTE_CSV_PATH this is the csv path to the classification data (in this instance plant functional types) which has been joined spatially in a GIS with PSM attribute(s).\n",
    "\n",
    "NAME this is the name to be included in the output file name (which attribute of the PSM is being used).\n",
    "\n",
    "TEST_SIZE this is the size of the testing data e.g. 0.3 (30% testing, 70% training)\n",
    "\n",
    "MAX_DEPTH this is the depth for the random forest, decision tree and SNM classification) e.g. 5\n",
    "\n",
    "KERNEL this is the SVM kernel e.g. 'rbf'\n",
    "\n",
    "NUM_CLUSTERS this is the number of clusters required for the k-means clustering e.g. 10\n",
    "\n",
    "OUTPUT_DIRECTORY this is the name of the file to which the shape and csv files should be saved to.\n",
    "\n",
    "SITE_NAME is the name of the location which is being anlaysed\n",
    "\n",
    "RANDOM_STATE this is the random state for the decision tree and random forest, pre-set to 42, but can be changed\n",
    "\n",
    "CV = the internal cross validation for decision tree, random forest and SVM classification e.g. 3"
   ]
  },
  {
   "cell_type": "code",
   "execution_count": null,
   "id": "bc0c5c5a",
   "metadata": {},
   "outputs": [],
   "source": [
    "COMBINED_PFT_CLASSES_WITH_PSM_ATTRIBUTE_CSV_PATH = 'joined_files/psm_attribute_site_name'\n",
    "NAME = 'site_name_attribute_name'\n",
    "TEST_SIZE = 0.3\n",
    "MAX_DEPTH = 5\n",
    "KERNEL = 'rbf'\n",
    "NUM_CLUSTERS = 10\n",
    "OUTPUT_DIRECTORY = 'outputs'\n",
    "SITE_NAME = 'site_1'\n",
    "RANDOM_STATE = 42\n",
    "CV = 3"
   ]
  },
  {
   "cell_type": "code",
   "execution_count": null,
   "id": "852a5515",
   "metadata": {},
   "outputs": [],
   "source": [
    "hml.psm.outputs(COMBINED_PFT_CLASSES_WITH_PSM_ATTRIBUTE_CSV_PATH, NAME, TEST_SIZE, MAX_DEPTH, KERNEL, NUM_CLUSTERS, \n",
    "                OUTPUT_DIRECTORY, SITE_NAME, RANDOM_STATE, CV)"
   ]
  },
  {
   "cell_type": "code",
   "execution_count": null,
   "id": "b788ca6b",
   "metadata": {},
   "outputs": [],
   "source": [
    "hml.psm.similarity_measures_velocity_pfts(COMBINED_PFT_CLASSES_WITH_PSM_ATTRIBUTE_CSV_PATH, NAME)"
   ]
  }
 ],
 "metadata": {
  "kernelspec": {
   "display_name": "Python 3 (ipykernel)",
   "language": "python",
   "name": "python3"
  },
  "language_info": {
   "codemirror_mode": {
    "name": "ipython",
    "version": 3
   },
   "file_extension": ".py",
   "mimetype": "text/x-python",
   "name": "python",
   "nbconvert_exporter": "python",
   "pygments_lexer": "ipython3",
   "version": "3.8.10"
  },
  "varInspector": {
   "cols": {
    "lenName": 16,
    "lenType": 16,
    "lenVar": 40
   },
   "kernels_config": {
    "python": {
     "delete_cmd_postfix": "",
     "delete_cmd_prefix": "del ",
     "library": "var_list.py",
     "varRefreshCmd": "print(var_dic_list())"
    },
    "r": {
     "delete_cmd_postfix": ") ",
     "delete_cmd_prefix": "rm(",
     "library": "var_list.r",
     "varRefreshCmd": "cat(var_dic_list()) "
    }
   },
   "types_to_exclude": [
    "module",
    "function",
    "builtin_function_or_method",
    "instance",
    "_Feature"
   ],
   "window_display": false
  }
 },
 "nbformat": 4,
 "nbformat_minor": 5
}
