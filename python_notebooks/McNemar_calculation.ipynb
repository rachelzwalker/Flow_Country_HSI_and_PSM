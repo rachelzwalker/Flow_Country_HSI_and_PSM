{
 "cells": [
  {
   "cell_type": "code",
   "execution_count": null,
   "id": "124add3b",
   "metadata": {},
   "outputs": [],
   "source": [
    "#  MCNEMAR test"
   ]
  },
  {
   "cell_type": "code",
   "execution_count": 3,
   "id": "dbe48559",
   "metadata": {},
   "outputs": [],
   "source": [
    "import pandas as pd\n",
    "SWIR = pd.read_csv('cross_lochs_confusion_matrix_rf_kmc_SWIR_0.25.csv')\n",
    "first_derivative = pd.read_csv('cross_lochs_confusion_matrix_rf_kmc_first_derivative_0.3.csv')"
   ]
  },
  {
   "cell_type": "code",
   "execution_count": 11,
   "id": "72dc7bb6",
   "metadata": {},
   "outputs": [
    {
     "data": {
      "text/html": [
       "<div>\n",
       "<style scoped>\n",
       "    .dataframe tbody tr th:only-of-type {\n",
       "        vertical-align: middle;\n",
       "    }\n",
       "\n",
       "    .dataframe tbody tr th {\n",
       "        vertical-align: top;\n",
       "    }\n",
       "\n",
       "    .dataframe thead th {\n",
       "        text-align: right;\n",
       "    }\n",
       "</style>\n",
       "<table border=\"1\" class=\"dataframe\">\n",
       "  <thead>\n",
       "    <tr style=\"text-align: right;\">\n",
       "      <th></th>\n",
       "      <th>0</th>\n",
       "      <th>1</th>\n",
       "      <th>2</th>\n",
       "      <th>3</th>\n",
       "      <th>4</th>\n",
       "      <th>5</th>\n",
       "    </tr>\n",
       "  </thead>\n",
       "  <tbody>\n",
       "    <tr>\n",
       "      <th>0</th>\n",
       "      <td>1632</td>\n",
       "      <td>0</td>\n",
       "      <td>0</td>\n",
       "      <td>0</td>\n",
       "      <td>0</td>\n",
       "      <td>41</td>\n",
       "    </tr>\n",
       "    <tr>\n",
       "      <th>1</th>\n",
       "      <td>262</td>\n",
       "      <td>3620</td>\n",
       "      <td>0</td>\n",
       "      <td>0</td>\n",
       "      <td>0</td>\n",
       "      <td>552</td>\n",
       "    </tr>\n",
       "    <tr>\n",
       "      <th>2</th>\n",
       "      <td>324</td>\n",
       "      <td>0</td>\n",
       "      <td>10390</td>\n",
       "      <td>338</td>\n",
       "      <td>4372</td>\n",
       "      <td>291</td>\n",
       "    </tr>\n",
       "    <tr>\n",
       "      <th>3</th>\n",
       "      <td>21</td>\n",
       "      <td>0</td>\n",
       "      <td>327</td>\n",
       "      <td>2282</td>\n",
       "      <td>6</td>\n",
       "      <td>385</td>\n",
       "    </tr>\n",
       "    <tr>\n",
       "      <th>4</th>\n",
       "      <td>0</td>\n",
       "      <td>0</td>\n",
       "      <td>5791</td>\n",
       "      <td>46</td>\n",
       "      <td>8117</td>\n",
       "      <td>8</td>\n",
       "    </tr>\n",
       "    <tr>\n",
       "      <th>5</th>\n",
       "      <td>2063</td>\n",
       "      <td>0</td>\n",
       "      <td>0</td>\n",
       "      <td>0</td>\n",
       "      <td>1139</td>\n",
       "      <td>14</td>\n",
       "    </tr>\n",
       "  </tbody>\n",
       "</table>\n",
       "</div>"
      ],
      "text/plain": [
       "      0     1      2     3     4    5\n",
       "0  1632     0      0     0     0   41\n",
       "1   262  3620      0     0     0  552\n",
       "2   324     0  10390   338  4372  291\n",
       "3    21     0    327  2282     6  385\n",
       "4     0     0   5791    46  8117    8\n",
       "5  2063     0      0     0  1139   14"
      ]
     },
     "execution_count": 11,
     "metadata": {},
     "output_type": "execute_result"
    }
   ],
   "source": [
    "SWIR_initial = SWIR.iloc[0:6,1:7]\n",
    "\n",
    "SWIR_initial"
   ]
  },
  {
   "cell_type": "code",
   "execution_count": 13,
   "id": "9fffe1fc",
   "metadata": {},
   "outputs": [
    {
     "name": "stdout",
     "output_type": "stream",
     "text": [
      "26055\n"
     ]
    }
   ],
   "source": [
    "import numpy as np\n",
    "\n",
    "SWIR_np = SWIR_initial.to_numpy()\n",
    "\n",
    "sum_TP_SWIR = SWIR_np.diagonal().sum()\n",
    "\n",
    "print(sum_TP_SWIR)\n"
   ]
  },
  {
   "cell_type": "code",
   "execution_count": 14,
   "id": "0dcec49c",
   "metadata": {},
   "outputs": [
    {
     "data": {
      "text/html": [
       "<div>\n",
       "<style scoped>\n",
       "    .dataframe tbody tr th:only-of-type {\n",
       "        vertical-align: middle;\n",
       "    }\n",
       "\n",
       "    .dataframe tbody tr th {\n",
       "        vertical-align: top;\n",
       "    }\n",
       "\n",
       "    .dataframe thead th {\n",
       "        text-align: right;\n",
       "    }\n",
       "</style>\n",
       "<table border=\"1\" class=\"dataframe\">\n",
       "  <thead>\n",
       "    <tr style=\"text-align: right;\">\n",
       "      <th></th>\n",
       "      <th>0</th>\n",
       "      <th>1</th>\n",
       "      <th>2</th>\n",
       "      <th>3</th>\n",
       "      <th>4</th>\n",
       "      <th>5</th>\n",
       "    </tr>\n",
       "  </thead>\n",
       "  <tbody>\n",
       "    <tr>\n",
       "      <th>0</th>\n",
       "      <td>1111</td>\n",
       "      <td>0</td>\n",
       "      <td>0</td>\n",
       "      <td>0</td>\n",
       "      <td>550</td>\n",
       "      <td>12</td>\n",
       "    </tr>\n",
       "    <tr>\n",
       "      <th>1</th>\n",
       "      <td>462</td>\n",
       "      <td>3904</td>\n",
       "      <td>0</td>\n",
       "      <td>0</td>\n",
       "      <td>36</td>\n",
       "      <td>32</td>\n",
       "    </tr>\n",
       "    <tr>\n",
       "      <th>2</th>\n",
       "      <td>474</td>\n",
       "      <td>0</td>\n",
       "      <td>7775</td>\n",
       "      <td>119</td>\n",
       "      <td>7079</td>\n",
       "      <td>268</td>\n",
       "    </tr>\n",
       "    <tr>\n",
       "      <th>3</th>\n",
       "      <td>0</td>\n",
       "      <td>0</td>\n",
       "      <td>27</td>\n",
       "      <td>2217</td>\n",
       "      <td>0</td>\n",
       "      <td>777</td>\n",
       "    </tr>\n",
       "    <tr>\n",
       "      <th>4</th>\n",
       "      <td>33</td>\n",
       "      <td>0</td>\n",
       "      <td>7549</td>\n",
       "      <td>62</td>\n",
       "      <td>6134</td>\n",
       "      <td>184</td>\n",
       "    </tr>\n",
       "    <tr>\n",
       "      <th>5</th>\n",
       "      <td>1203</td>\n",
       "      <td>0</td>\n",
       "      <td>204</td>\n",
       "      <td>34</td>\n",
       "      <td>1600</td>\n",
       "      <td>175</td>\n",
       "    </tr>\n",
       "  </tbody>\n",
       "</table>\n",
       "</div>"
      ],
      "text/plain": [
       "      0     1     2     3     4    5\n",
       "0  1111     0     0     0   550   12\n",
       "1   462  3904     0     0    36   32\n",
       "2   474     0  7775   119  7079  268\n",
       "3     0     0    27  2217     0  777\n",
       "4    33     0  7549    62  6134  184\n",
       "5  1203     0   204    34  1600  175"
      ]
     },
     "execution_count": 14,
     "metadata": {},
     "output_type": "execute_result"
    }
   ],
   "source": [
    "first_derivative_initial = first_derivative.iloc[0:6,1:7]\n",
    "\n",
    "first_derivative_initial"
   ]
  },
  {
   "cell_type": "code",
   "execution_count": 15,
   "id": "5e22d21c",
   "metadata": {},
   "outputs": [
    {
     "name": "stdout",
     "output_type": "stream",
     "text": [
      "21316\n"
     ]
    }
   ],
   "source": [
    "fd_np = first_derivative_initial.to_numpy()\n",
    "\n",
    "sum_TP_fd = fd_np.diagonal().sum()\n",
    "\n",
    "print(sum_TP_fd)\n"
   ]
  },
  {
   "cell_type": "code",
   "execution_count": 17,
   "id": "798b3fc0",
   "metadata": {},
   "outputs": [
    {
     "data": {
      "text/plain": [
       "16577"
      ]
     },
     "execution_count": 17,
     "metadata": {},
     "output_type": "execute_result"
    }
   ],
   "source": [
    "difference = sum_TP_SWIR - sum_TP_fd\n",
    "f11_TP = sum_TP_fd - difference\n",
    "\n",
    "f11_TP"
   ]
  },
  {
   "cell_type": "code",
   "execution_count": 20,
   "id": "3aa5ad5f",
   "metadata": {},
   "outputs": [],
   "source": [
    "total = SWIR_initial.values.sum()"
   ]
  },
  {
   "cell_type": "code",
   "execution_count": 21,
   "id": "ae05ea57",
   "metadata": {},
   "outputs": [
    {
     "data": {
      "text/plain": [
       "11227"
      ]
     },
     "execution_count": 21,
     "metadata": {},
     "output_type": "execute_result"
    }
   ],
   "source": [
    "f12_FN = sum_TP_SWIR - f11_TP\n",
    "f21_FP = sum_TP_fd - f11_TP\n",
    "\n",
    "f22_TN = total - f11_TP - f12_FN - f21_FP\n",
    "\n",
    "f22_TN"
   ]
  },
  {
   "cell_type": "code",
   "execution_count": 23,
   "id": "0e5294e2",
   "metadata": {},
   "outputs": [
    {
     "name": "stdout",
     "output_type": "stream",
     "text": [
      "f11 =  16577\n",
      "f12 =  9478\n",
      "f21 =  4739\n",
      "f22 =  11227\n"
     ]
    }
   ],
   "source": [
    "print('f11 = ', f11_TP)\n",
    "print('f12 = ', f12_FN)\n",
    "print('f21 = ', f21_FP)\n",
    "print('f22 = ', f22_TN)"
   ]
  },
  {
   "cell_type": "code",
   "execution_count": 24,
   "id": "612dfe11",
   "metadata": {},
   "outputs": [
    {
     "data": {
      "text/plain": [
       "39.74502065248761"
      ]
     },
     "execution_count": 24,
     "metadata": {},
     "output_type": "execute_result"
    }
   ],
   "source": [
    "import math\n",
    "\n",
    "z = (f12_FN - f21_FP)/math.sqrt(f12_FN + f21_FP)\n",
    "\n",
    "z"
   ]
  },
  {
   "cell_type": "code",
   "execution_count": null,
   "id": "ac6d7e22",
   "metadata": {},
   "outputs": [],
   "source": [
    "# if z is greater than 3.481, then it is statistically significant diffierent at 0.05 level (1 degree of freedom chi2 table)\n",
    "# i.e. the classifiers have statsitically significane different outcomes"
   ]
  },
  {
   "cell_type": "code",
   "execution_count": 26,
   "id": "4a605c99",
   "metadata": {},
   "outputs": [
    {
     "data": {
      "text/plain": [
       "1579.0000703383273"
      ]
     },
     "execution_count": 26,
     "metadata": {},
     "output_type": "execute_result"
    }
   ],
   "source": [
    "# for classifer performances\n",
    "\n",
    "x2 = (f12_FN - f21_FP - 1)**2/(f12_FN + f21_FP)\n",
    "\n",
    "x2"
   ]
  },
  {
   "cell_type": "code",
   "execution_count": 27,
   "id": "e04a7977",
   "metadata": {},
   "outputs": [
    {
     "data": {
      "text/plain": [
       "1579.6666666666667"
      ]
     },
     "execution_count": 27,
     "metadata": {},
     "output_type": "execute_result"
    }
   ],
   "source": [
    "# alternative formula\n",
    "\n",
    "x2 = (f12_FN - f21_FP)**2/(f12_FN + f21_FP)\n",
    "\n",
    "x2"
   ]
  },
  {
   "cell_type": "code",
   "execution_count": null,
   "id": "e2d9d8c4",
   "metadata": {},
   "outputs": [],
   "source": []
  }
 ],
 "metadata": {
  "kernelspec": {
   "display_name": "Python 3 (ipykernel)",
   "language": "python",
   "name": "python3"
  },
  "language_info": {
   "codemirror_mode": {
    "name": "ipython",
    "version": 3
   },
   "file_extension": ".py",
   "mimetype": "text/x-python",
   "name": "python",
   "nbconvert_exporter": "python",
   "pygments_lexer": "ipython3",
   "version": "3.8.10"
  },
  "varInspector": {
   "cols": {
    "lenName": 16,
    "lenType": 16,
    "lenVar": 40
   },
   "kernels_config": {
    "python": {
     "delete_cmd_postfix": "",
     "delete_cmd_prefix": "del ",
     "library": "var_list.py",
     "varRefreshCmd": "print(var_dic_list())"
    },
    "r": {
     "delete_cmd_postfix": ") ",
     "delete_cmd_prefix": "rm(",
     "library": "var_list.r",
     "varRefreshCmd": "cat(var_dic_list()) "
    }
   },
   "types_to_exclude": [
    "module",
    "function",
    "builtin_function_or_method",
    "instance",
    "_Feature"
   ],
   "window_display": false
  }
 },
 "nbformat": 4,
 "nbformat_minor": 5
}
