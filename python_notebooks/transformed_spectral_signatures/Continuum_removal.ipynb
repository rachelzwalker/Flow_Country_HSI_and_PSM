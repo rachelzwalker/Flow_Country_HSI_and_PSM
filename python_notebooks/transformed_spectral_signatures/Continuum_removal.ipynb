{
 "cells": [
  {
   "cell_type": "code",
   "execution_count": 5,
   "id": "af24e128",
   "metadata": {},
   "outputs": [
    {
     "name": "stderr",
     "output_type": "stream",
     "text": [
      "/tmp/ipykernel_22238/2032542278.py:15: PerformanceWarning: DataFrame is highly fragmented.  This is usually the result of calling `frame.insert` many times, which has poor performance.  Consider joining all columns at once using pd.concat(axis=1) instead.  To get a de-fragmented frame, use `newframe = frame.copy()`\n",
      "  cross_lochs_df['band' +str(band_num)]=array[array_num].ravel()\n"
     ]
    },
    {
     "data": {
      "text/html": [
       "<div>\n",
       "<style scoped>\n",
       "    .dataframe tbody tr th:only-of-type {\n",
       "        vertical-align: middle;\n",
       "    }\n",
       "\n",
       "    .dataframe tbody tr th {\n",
       "        vertical-align: top;\n",
       "    }\n",
       "\n",
       "    .dataframe thead th {\n",
       "        text-align: right;\n",
       "    }\n",
       "</style>\n",
       "<table border=\"1\" class=\"dataframe\">\n",
       "  <thead>\n",
       "    <tr style=\"text-align: right;\">\n",
       "      <th></th>\n",
       "      <th>band1</th>\n",
       "      <th>band2</th>\n",
       "      <th>band3</th>\n",
       "      <th>band4</th>\n",
       "      <th>band5</th>\n",
       "      <th>band6</th>\n",
       "      <th>band7</th>\n",
       "      <th>band8</th>\n",
       "      <th>band9</th>\n",
       "      <th>band10</th>\n",
       "      <th>...</th>\n",
       "      <th>band349</th>\n",
       "      <th>band350</th>\n",
       "      <th>band351</th>\n",
       "      <th>band352</th>\n",
       "      <th>band353</th>\n",
       "      <th>band354</th>\n",
       "      <th>band355</th>\n",
       "      <th>band356</th>\n",
       "      <th>band357</th>\n",
       "      <th>band358</th>\n",
       "    </tr>\n",
       "  </thead>\n",
       "  <tbody>\n",
       "    <tr>\n",
       "      <th>0</th>\n",
       "      <td>0.001099</td>\n",
       "      <td>0.003430</td>\n",
       "      <td>0.004752</td>\n",
       "      <td>0.006146</td>\n",
       "      <td>0.006639</td>\n",
       "      <td>0.009240</td>\n",
       "      <td>0.010558</td>\n",
       "      <td>0.011710</td>\n",
       "      <td>0.013801</td>\n",
       "      <td>0.015441</td>\n",
       "      <td>...</td>\n",
       "      <td>0.077946</td>\n",
       "      <td>0.077413</td>\n",
       "      <td>0.077153</td>\n",
       "      <td>0.078934</td>\n",
       "      <td>0.074587</td>\n",
       "      <td>0.072792</td>\n",
       "      <td>0.075150</td>\n",
       "      <td>0.074088</td>\n",
       "      <td>0.074698</td>\n",
       "      <td>0.072249</td>\n",
       "    </tr>\n",
       "    <tr>\n",
       "      <th>1</th>\n",
       "      <td>0.003365</td>\n",
       "      <td>0.002541</td>\n",
       "      <td>0.004668</td>\n",
       "      <td>0.006236</td>\n",
       "      <td>0.006519</td>\n",
       "      <td>0.008654</td>\n",
       "      <td>0.010603</td>\n",
       "      <td>0.012083</td>\n",
       "      <td>0.012975</td>\n",
       "      <td>0.015468</td>\n",
       "      <td>...</td>\n",
       "      <td>0.075149</td>\n",
       "      <td>0.073557</td>\n",
       "      <td>0.071610</td>\n",
       "      <td>0.071727</td>\n",
       "      <td>0.069210</td>\n",
       "      <td>0.070987</td>\n",
       "      <td>0.072956</td>\n",
       "      <td>0.070970</td>\n",
       "      <td>0.067680</td>\n",
       "      <td>0.067113</td>\n",
       "    </tr>\n",
       "  </tbody>\n",
       "</table>\n",
       "<p>2 rows × 358 columns</p>\n",
       "</div>"
      ],
      "text/plain": [
       "      band1     band2     band3     band4     band5     band6     band7  \\\n",
       "0  0.001099  0.003430  0.004752  0.006146  0.006639  0.009240  0.010558   \n",
       "1  0.003365  0.002541  0.004668  0.006236  0.006519  0.008654  0.010603   \n",
       "\n",
       "      band8     band9    band10  ...   band349   band350   band351   band352  \\\n",
       "0  0.011710  0.013801  0.015441  ...  0.077946  0.077413  0.077153  0.078934   \n",
       "1  0.012083  0.012975  0.015468  ...  0.075149  0.073557  0.071610  0.071727   \n",
       "\n",
       "    band353   band354   band355   band356   band357   band358  \n",
       "0  0.074587  0.072792  0.075150  0.074088  0.074698  0.072249  \n",
       "1  0.069210  0.070987  0.072956  0.070970  0.067680  0.067113  \n",
       "\n",
       "[2 rows x 358 columns]"
      ]
     },
     "execution_count": 5,
     "metadata": {},
     "output_type": "execute_result"
    }
   ],
   "source": [
    "import rasterio as rio\n",
    "cross_lochs_test = rio.open('../../preprocessed_data/dimensionality_reduction/cross_lochs_2.tif')\n",
    "# number of bands\n",
    "cross_lochs_test.count\n",
    "# read bands\n",
    "array = cross_lochs_test.read()\n",
    "# convert to a DataFrame\n",
    "import pandas as pd\n",
    "cross_lochs_df = pd.DataFrame()\n",
    "\n",
    "array_num = 0\n",
    "band_num = 1\n",
    "\n",
    "for num in range(358):\n",
    "    cross_lochs_df['band' +str(band_num)]=array[array_num].ravel()\n",
    "    array_num += 1\n",
    "    band_num += 1\n",
    "\n",
    "\n",
    "cross_lochs_df.head(2)\n",
    "\n",
    "# NB when do this, will want a PFT column, which will include in randmisation, then split the train and \n",
    "# test data into x (bands) and y (PFT)"
   ]
  },
  {
   "cell_type": "code",
   "execution_count": 6,
   "id": "50b9f548",
   "metadata": {},
   "outputs": [],
   "source": [
    "import pandas as pd\n",
    "wavelengths = pd.read_csv(\"../../preprocessed_data/wavelengths.csv\")"
   ]
  },
  {
   "cell_type": "markdown",
   "id": "f1ba23f8",
   "metadata": {},
   "source": [
    "https://github.com/amirhszd/ContinuumRemoval/blob/master/Continuum_Remval.py"
   ]
  },
  {
   "cell_type": "code",
   "execution_count": 8,
   "id": "93eb6a92",
   "metadata": {},
   "outputs": [
    {
     "data": {
      "text/html": [
       "<div>\n",
       "<style scoped>\n",
       "    .dataframe tbody tr th:only-of-type {\n",
       "        vertical-align: middle;\n",
       "    }\n",
       "\n",
       "    .dataframe tbody tr th {\n",
       "        vertical-align: top;\n",
       "    }\n",
       "\n",
       "    .dataframe thead th {\n",
       "        text-align: right;\n",
       "    }\n",
       "</style>\n",
       "<table border=\"1\" class=\"dataframe\">\n",
       "  <thead>\n",
       "    <tr style=\"text-align: right;\">\n",
       "      <th></th>\n",
       "      <th>band1</th>\n",
       "      <th>band2</th>\n",
       "      <th>band3</th>\n",
       "      <th>band4</th>\n",
       "      <th>band5</th>\n",
       "      <th>band6</th>\n",
       "      <th>band7</th>\n",
       "      <th>band8</th>\n",
       "      <th>band9</th>\n",
       "      <th>band10</th>\n",
       "      <th>...</th>\n",
       "      <th>band349</th>\n",
       "      <th>band350</th>\n",
       "      <th>band351</th>\n",
       "      <th>band352</th>\n",
       "      <th>band353</th>\n",
       "      <th>band354</th>\n",
       "      <th>band355</th>\n",
       "      <th>band356</th>\n",
       "      <th>band357</th>\n",
       "      <th>band358</th>\n",
       "    </tr>\n",
       "  </thead>\n",
       "  <tbody>\n",
       "    <tr>\n",
       "      <th>mean</th>\n",
       "      <td>0.001254</td>\n",
       "      <td>0.002138</td>\n",
       "      <td>0.00396</td>\n",
       "      <td>0.005098</td>\n",
       "      <td>0.00612</td>\n",
       "      <td>0.008425</td>\n",
       "      <td>0.010456</td>\n",
       "      <td>0.012139</td>\n",
       "      <td>0.014304</td>\n",
       "      <td>0.016267</td>\n",
       "      <td>...</td>\n",
       "      <td>0.08206</td>\n",
       "      <td>0.082205</td>\n",
       "      <td>0.081238</td>\n",
       "      <td>0.082423</td>\n",
       "      <td>0.080989</td>\n",
       "      <td>0.081207</td>\n",
       "      <td>0.08155</td>\n",
       "      <td>0.082234</td>\n",
       "      <td>0.080923</td>\n",
       "      <td>0.080996</td>\n",
       "    </tr>\n",
       "  </tbody>\n",
       "</table>\n",
       "<p>1 rows × 358 columns</p>\n",
       "</div>"
      ],
      "text/plain": [
       "         band1     band2    band3     band4    band5     band6     band7  \\\n",
       "mean  0.001254  0.002138  0.00396  0.005098  0.00612  0.008425  0.010456   \n",
       "\n",
       "         band8     band9    band10  ...  band349   band350   band351  \\\n",
       "mean  0.012139  0.014304  0.016267  ...  0.08206  0.082205  0.081238   \n",
       "\n",
       "       band352   band353   band354  band355   band356   band357   band358  \n",
       "mean  0.082423  0.080989  0.081207  0.08155  0.082234  0.080923  0.080996  \n",
       "\n",
       "[1 rows x 358 columns]"
      ]
     },
     "execution_count": 8,
     "metadata": {},
     "output_type": "execute_result"
    }
   ],
   "source": [
    "cross_lochs_df.loc['mean'] = cross_lochs_df.mean()\n",
    "mean = cross_lochs_df.loc[['mean']]\n",
    "mean.head()"
   ]
  },
  {
   "cell_type": "code",
   "execution_count": 9,
   "id": "aa461ee9",
   "metadata": {},
   "outputs": [
    {
     "data": {
      "text/html": [
       "<div>\n",
       "<style scoped>\n",
       "    .dataframe tbody tr th:only-of-type {\n",
       "        vertical-align: middle;\n",
       "    }\n",
       "\n",
       "    .dataframe tbody tr th {\n",
       "        vertical-align: top;\n",
       "    }\n",
       "\n",
       "    .dataframe thead th {\n",
       "        text-align: right;\n",
       "    }\n",
       "</style>\n",
       "<table border=\"1\" class=\"dataframe\">\n",
       "  <thead>\n",
       "    <tr style=\"text-align: right;\">\n",
       "      <th></th>\n",
       "      <th>Original Spectra</th>\n",
       "    </tr>\n",
       "  </thead>\n",
       "  <tbody>\n",
       "    <tr>\n",
       "      <th>count</th>\n",
       "      <td>358.000000</td>\n",
       "    </tr>\n",
       "    <tr>\n",
       "      <th>mean</th>\n",
       "      <td>0.175729</td>\n",
       "    </tr>\n",
       "    <tr>\n",
       "      <th>std</th>\n",
       "      <td>0.099915</td>\n",
       "    </tr>\n",
       "    <tr>\n",
       "      <th>min</th>\n",
       "      <td>0.001254</td>\n",
       "    </tr>\n",
       "    <tr>\n",
       "      <th>25%</th>\n",
       "      <td>0.093539</td>\n",
       "    </tr>\n",
       "    <tr>\n",
       "      <th>50%</th>\n",
       "      <td>0.181250</td>\n",
       "    </tr>\n",
       "    <tr>\n",
       "      <th>75%</th>\n",
       "      <td>0.261180</td>\n",
       "    </tr>\n",
       "    <tr>\n",
       "      <th>max</th>\n",
       "      <td>0.499453</td>\n",
       "    </tr>\n",
       "  </tbody>\n",
       "</table>\n",
       "</div>"
      ],
      "text/plain": [
       "       Original Spectra\n",
       "count        358.000000\n",
       "mean           0.175729\n",
       "std            0.099915\n",
       "min            0.001254\n",
       "25%            0.093539\n",
       "50%            0.181250\n",
       "75%            0.261180\n",
       "max            0.499453"
      ]
     },
     "execution_count": 9,
     "metadata": {},
     "output_type": "execute_result"
    }
   ],
   "source": [
    "original_spectra = mean.transpose()\n",
    "original_spectra = original_spectra.rename(columns={'mean': 'Original Spectra'})\n",
    "#original_spectra = original_spectra.rename(index={0:357}) # want to rename to match the other dataframe\n",
    "original_spectra = original_spectra.reset_index()\n",
    "# original_spectra = \n",
    "original_spectra.head()\n",
    "original_spectra.describe()"
   ]
  },
  {
   "cell_type": "code",
   "execution_count": 16,
   "id": "1fc793e3",
   "metadata": {},
   "outputs": [
    {
     "data": {
      "text/html": [
       "<div>\n",
       "<style scoped>\n",
       "    .dataframe tbody tr th:only-of-type {\n",
       "        vertical-align: middle;\n",
       "    }\n",
       "\n",
       "    .dataframe tbody tr th {\n",
       "        vertical-align: top;\n",
       "    }\n",
       "\n",
       "    .dataframe thead th {\n",
       "        text-align: right;\n",
       "    }\n",
       "</style>\n",
       "<table border=\"1\" class=\"dataframe\">\n",
       "  <thead>\n",
       "    <tr style=\"text-align: right;\">\n",
       "      <th></th>\n",
       "      <th>Wavelength</th>\n",
       "      <th>index</th>\n",
       "      <th>Original Spectra</th>\n",
       "    </tr>\n",
       "  </thead>\n",
       "  <tbody>\n",
       "    <tr>\n",
       "      <th>0</th>\n",
       "      <td>377.071821</td>\n",
       "      <td>band1</td>\n",
       "      <td>0.001254</td>\n",
       "    </tr>\n",
       "    <tr>\n",
       "      <th>1</th>\n",
       "      <td>382.081821</td>\n",
       "      <td>band2</td>\n",
       "      <td>0.002138</td>\n",
       "    </tr>\n",
       "    <tr>\n",
       "      <th>2</th>\n",
       "      <td>387.091821</td>\n",
       "      <td>band3</td>\n",
       "      <td>0.003960</td>\n",
       "    </tr>\n",
       "    <tr>\n",
       "      <th>3</th>\n",
       "      <td>392.101821</td>\n",
       "      <td>band4</td>\n",
       "      <td>0.005098</td>\n",
       "    </tr>\n",
       "    <tr>\n",
       "      <th>4</th>\n",
       "      <td>397.101821</td>\n",
       "      <td>band5</td>\n",
       "      <td>0.006120</td>\n",
       "    </tr>\n",
       "  </tbody>\n",
       "</table>\n",
       "</div>"
      ],
      "text/plain": [
       "   Wavelength  index  Original Spectra\n",
       "0  377.071821  band1          0.001254\n",
       "1  382.081821  band2          0.002138\n",
       "2  387.091821  band3          0.003960\n",
       "3  392.101821  band4          0.005098\n",
       "4  397.101821  band5          0.006120"
      ]
     },
     "execution_count": 16,
     "metadata": {},
     "output_type": "execute_result"
    }
   ],
   "source": [
    "continuum_removal = pd.concat([wavelengths,original_spectra], axis=1)\n",
    "continuum_removal.head()"
   ]
  },
  {
   "cell_type": "code",
   "execution_count": 38,
   "id": "6b76a7b2",
   "metadata": {},
   "outputs": [
    {
     "name": "stdout",
     "output_type": "stream",
     "text": [
      "      Wavelength    index  Original Spectra continuum continuum removed  \\\n",
      "0     377.071821    band1          0.001254  0.001262          0.994177   \n",
      "1     382.081821    band2          0.002138  0.001269          1.684657   \n",
      "2     387.091821    band3          0.003960  0.001276          3.102246   \n",
      "3     392.101821    band4          0.005098  0.001284          3.970893   \n",
      "4     397.101821    band5          0.006120  0.001291          4.740442   \n",
      "..           ...      ...               ...       ...               ...   \n",
      "353  2375.531821  band354          0.081207  0.003855         21.065357   \n",
      "354  2380.541821  band355          0.081550  0.003862         21.114222   \n",
      "355  2385.551821  band356          0.082234   0.00387         21.250924   \n",
      "356  2390.561821  band357          0.080923  0.003877         20.872586   \n",
      "357  2395.561821  band358          0.080996  0.003884         20.851783   \n",
      "\n",
      "    band depth normalised band depth      BDNA  \n",
      "0     0.005823                  -0.0  0.000039  \n",
      "1    -0.684657              0.000027  0.000066  \n",
      "2    -2.102246              0.000083  0.000121  \n",
      "3    -2.970893              0.000118  0.000155  \n",
      "4    -3.740442              0.000148  0.000185  \n",
      "..         ...                   ...       ...  \n",
      "353 -20.065357              0.000796  0.000824  \n",
      "354 -20.114222              0.000798  0.000826  \n",
      "355 -20.250924              0.000803  0.000831  \n",
      "356 -19.872586              0.000788  0.000816  \n",
      "357 -19.851783              0.000787  0.000815  \n",
      "\n",
      "[358 rows x 8 columns]\n"
     ]
    }
   ],
   "source": [
    "Increment = (0.00375-0.00112)/358\n",
    "\n",
    "# most complex column:\n",
    "continuum_removal[\"continuum\"] = \"\"\n",
    "first_original_reflectance_value = continuum_removal.iloc[0][\"Original Spectra\"]\n",
    "#print(first_original_reflectance_value)\n",
    "multiply_num = 1\n",
    "index_num = 0\n",
    "\n",
    "# continuum_removal.iloc[index_num, 3] = first_original_reflectance_value + (Increment * multiply_num)\n",
    "# print(continuum_removal.iloc[0, 3])\n",
    "\n",
    "for index, row in continuum_removal.iterrows():\n",
    "    continuum_removal.iloc[index_num, 3] = first_original_reflectance_value + (Increment * multiply_num)\n",
    "    multiply_num += 1\n",
    "    index_num += 1\n",
    "    \n",
    "\n",
    "continuum_removal[\"continuum removed\"] = continuum_removal[\"Original Spectra\"] / continuum_removal[\"continuum\"]\n",
    "continuum_removal[\"band depth\"] = 1 - continuum_removal[\"continuum removed\"]\n",
    "sum_band_depth = continuum_removal[\"band depth\"].sum()\n",
    "continuum_removal[\"normalised band depth\"] = continuum_removal[\"band depth\"] / sum_band_depth\n",
    "sum_continuum_removed = continuum_removal[\"continuum removed\"].sum()\n",
    "continuum_removal[\"BDNA\"] = continuum_removal[\"continuum removed\"] / sum_continuum_removed\n",
    "\n",
    "print(continuum_removal)\n"
   ]
  },
  {
   "cell_type": "code",
   "execution_count": 41,
   "id": "29613842",
   "metadata": {},
   "outputs": [
    {
     "data": {
      "text/plain": [
       "[Text(0.5, 0, 'Bands'), Text(0, 0.5, 'BDNA')]"
      ]
     },
     "execution_count": 41,
     "metadata": {},
     "output_type": "execute_result"
    },
    {
     "data": {
      "image/png": "[encoded data removed]",
      "text/plain": [
       "<Figure size 432x288 with 1 Axes>"
      ]
     },
     "metadata": {
      "needs_background": "light"
     },
     "output_type": "display_data"
    }
   ],
   "source": [
    "band_depth_normalied_by_area = continuum_removal[\"BDNA\"].plot.line()\n",
    "band_depth_normalied_by_area.set(xlabel=\"Bands\", ylabel=\"BDNA\")"
   ]
  },
  {
   "cell_type": "code",
   "execution_count": 53,
   "id": "228927ba",
   "metadata": {},
   "outputs": [
    {
     "data": {
      "text/plain": [
       "<seaborn.axisgrid.FacetGrid at 0x7fd873ab4100>"
      ]
     },
     "execution_count": 53,
     "metadata": {},
     "output_type": "execute_result"
    },
    {
     "data": {
      "image/png": "[encoded data removed]",
      "text/plain": [
       "<Figure size 360x360 with 1 Axes>"
      ]
     },
     "metadata": {},
     "output_type": "display_data"
    }
   ],
   "source": [
    "import seaborn as sns\n",
    "\n",
    "sns.set_theme(style = \"whitegrid\")\n",
    "\n",
    "sns.relplot(x=\"Wavelength\", y=\"BDNA\", kind=\"line\", data=continuum_removal)\n"
   ]
  },
  {
   "cell_type": "code",
   "execution_count": null,
   "id": "393e5897",
   "metadata": {},
   "outputs": [],
   "source": []
  }
 ],
 "metadata": {
  "kernelspec": {
   "display_name": "Python 3 (ipykernel)",
   "language": "python",
   "name": "python3"
  },
  "language_info": {
   "codemirror_mode": {
    "name": "ipython",
    "version": 3
   },
   "file_extension": ".py",
   "mimetype": "text/x-python",
   "name": "python",
   "nbconvert_exporter": "python",
   "pygments_lexer": "ipython3",
   "version": "3.8.10"
  },
  "varInspector": {
   "cols": {
    "lenName": 16,
    "lenType": 16,
    "lenVar": 40
   },
   "kernels_config": {
    "python": {
     "delete_cmd_postfix": "",
     "delete_cmd_prefix": "del ",
     "library": "var_list.py",
     "varRefreshCmd": "print(var_dic_list())"
    },
    "r": {
     "delete_cmd_postfix": ") ",
     "delete_cmd_prefix": "rm(",
     "library": "var_list.r",
     "varRefreshCmd": "cat(var_dic_list()) "
    }
   },
   "types_to_exclude": [
    "module",
    "function",
    "builtin_function_or_method",
    "instance",
    "_Feature"
   ],
   "window_display": false
  }
 },
 "nbformat": 4,
 "nbformat_minor": 5
}
