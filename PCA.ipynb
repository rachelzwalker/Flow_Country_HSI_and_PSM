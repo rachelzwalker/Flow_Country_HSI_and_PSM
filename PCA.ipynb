{
 "cells": [
  {
   "cell_type": "markdown",
   "id": "9bbea79d",
   "metadata": {},
   "source": [
    "# PCA\n",
    "\n",
    "## Usage\n",
    "\n",
    "Update the constants below to work with your file structure\n",
    "\n",
    "HYPERSPECRAL_VECTOR_CSV_PATH this should be the path to a csv file cointaining the hyperspectral data to be clustered using PCA.\n",
    "\n",
    "PCA_COMPONENTS this is the number of PFT clusters to be graphed. This figure can change, however, any changes need to be reflected in the COLUMNS.\n",
    "\n",
    "COLUMNS this is the name of each column in the PCA pca dataframe. The number of strings needs to reflect the PCA_COMPONENTS value.\n",
    "\n",
    "CLASS_NAME this is the name of the class to undergo analysis, in this case 'PFT'.\n",
    "\n",
    "PFTS this is the list of plant functional types included in the dataframe\n",
    "\n",
    "COLORS this is a list of colours to be used when graphing the PCA results"
   ]
  },
  {
   "cell_type": "code",
   "execution_count": null,
   "id": "47ad38ec",
   "metadata": {},
   "outputs": [],
   "source": [
    "HYPERSPECRAL_VECTOR_CSV_PATH = 'preprocessed_data/site_with_hyperspectral_data.csv'\n",
    "PCA_COMPONENTS = 10\n",
    "COLUMNS = ['pc_1', 'pc_2', 'pc_3', 'pc_4', 'pc_5', 'pc_6', 'pc_7', 'pc_8', 'pc_9', 'pc_10']\n",
    "CLASS = 'PFT'\n",
    "PFTS = ['bare', 'brash', 'water', 'rushes', 'pool_bogbean', 'short_grass', 'long_grass', 'grass_sphagnum', \n",
    "        'dead_grass_mix', 'shrub_sphagnum']\n",
    "COLORS = ['r', 'g', 'b', 'c', 'm', 'y', 'k', 'darkorange', 'lime', 'aqua', 'fuchsia', 'yellowgreen', 'purple']"
   ]
  },
  {
   "cell_type": "code",
   "execution_count": null,
   "id": "83ad6c87",
   "metadata": {},
   "outputs": [],
   "source": [
    "import pandas as pd\n",
    "import geopandas\n",
    "\n",
    "data = pd.read_csv(HYPERSPECRAL_VECTOR_CSV_PATH)"
   ]
  },
  {
   "cell_type": "code",
   "execution_count": null,
   "id": "07014efd",
   "metadata": {},
   "outputs": [],
   "source": [
    "import numpy as np\n",
    "from sklearn.decomposition import PCA"
   ]
  },
  {
   "cell_type": "code",
   "execution_count": null,
   "id": "cca05b24",
   "metadata": {},
   "outputs": [],
   "source": [
    "from sklearn.preprocessing import StandardScaler\n",
    "\n",
    "# The numbers will need to be changed according to the number of bands in the hyperspectral dataset\n",
    "x = data[data.columns[1:359]]\n",
    "y = data[data.columns[362]]\n",
    "\n",
    "x = StandardScaler().fit_transform(x)\n",
    "\n",
    "\n",
    "from sklearn.decomposition import PCA\n",
    "pca = PCA(n_components=10)\n",
    "principalComponents = pca.fit_transform(x)\n",
    "principalDf = pd.DataFrame(data = principalComponents\n",
    "             , columns = COLUMNS)\n",
    "\n",
    "\n",
    "pca_df = pd.concat([principalDf, data[[CLASS]], data[['geometry']]], axis = 1)\n",
    "\n",
    "\n",
    "pca_df['geometry'] = geopandas.GeoSeries.from_wkt(pca_df['geometry'])\n",
    "\n",
    "pca_gdf = geopandas.GeoDataFrame(pca_df, geometry='geometry')\n",
    "\n",
    "pca_gdf.head(2)\n"
   ]
  },
  {
   "cell_type": "code",
   "execution_count": null,
   "id": "38500b5a",
   "metadata": {},
   "outputs": [],
   "source": [
    "from matplotlib import pyplot as plt\n",
    "\n",
    "fig = plt.figure(figsize = (8,8))\n",
    "ax = fig.add_subplot(1,1,1) \n",
    "ax.set_xlabel('Principal Component 1', fontsize = 15)\n",
    "ax.set_ylabel('Principal Component 2', fontsize = 15)\n",
    "ax.set_title('2 component PCA', fontsize = 20)\n",
    "\n",
    "pfts = sorted(PFTS)\n",
    "\n",
    "colors = COLORS\n",
    "\n",
    "for pft, color in zip(pfts,colors):\n",
    "    indicesToKeep = pca_df['PFT'] == pft\n",
    "    ax.scatter(pca_df.loc[indicesToKeep, 'pc_1']\n",
    "               , pca_df.loc[indicesToKeep, 'pc_2']\n",
    "               , c = color\n",
    "               , s = 50)\n",
    "ax.legend(PFTs)\n",
    "ax.grid()"
   ]
  },
  {
   "cell_type": "code",
   "execution_count": null,
   "id": "58b6979f",
   "metadata": {},
   "outputs": [],
   "source": [
    "explained_variance = pca.explained_variance_ratio_\n",
    "\n",
    "explained_variance"
   ]
  },
  {
   "cell_type": "code",
   "execution_count": null,
   "id": "eab0ef58",
   "metadata": {},
   "outputs": [],
   "source": [
    "var = pca.explained_variance_[0:10] #percentage of variance explained\n",
    "labels = COLUMNS\n",
    "\n",
    "plt.figure(figsize=(15,7))\n",
    "plt.bar(labels,var,)\n",
    "plt.xlabel('Pricipal Component')\n",
    "plt.ylabel('Proportion of Variance Explained')"
   ]
  }
 ],
 "metadata": {
  "kernelspec": {
   "display_name": "Python 3 (ipykernel)",
   "language": "python",
   "name": "python3"
  },
  "language_info": {
   "codemirror_mode": {
    "name": "ipython",
    "version": 3
   },
   "file_extension": ".py",
   "mimetype": "text/x-python",
   "name": "python",
   "nbconvert_exporter": "python",
   "pygments_lexer": "ipython3",
   "version": "3.8.10"
  },
  "varInspector": {
   "cols": {
    "lenName": 16,
    "lenType": 16,
    "lenVar": 40
   },
   "kernels_config": {
    "python": {
     "delete_cmd_postfix": "",
     "delete_cmd_prefix": "del ",
     "library": "var_list.py",
     "varRefreshCmd": "print(var_dic_list())"
    },
    "r": {
     "delete_cmd_postfix": ") ",
     "delete_cmd_prefix": "rm(",
     "library": "var_list.r",
     "varRefreshCmd": "cat(var_dic_list()) "
    }
   },
   "types_to_exclude": [
    "module",
    "function",
    "builtin_function_or_method",
    "instance",
    "_Feature"
   ],
   "window_display": false
  }
 },
 "nbformat": 4,
 "nbformat_minor": 5
}
