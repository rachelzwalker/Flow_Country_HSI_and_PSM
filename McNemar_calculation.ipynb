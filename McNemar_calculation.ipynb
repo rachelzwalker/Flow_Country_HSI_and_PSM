{
 "cells": [
  {
   "cell_type": "markdown",
   "id": "b803fd3d",
   "metadata": {},
   "source": [
    "#  McNemar test\n",
    "\n",
    "## Usage\n",
    "\n",
    "Update the constants below to work with your file structure\n",
    "\n",
    "CONFUSION_MATRIX_1_CSV_PATH this should be the path to a csv file cointaining the conflusion matrix from one data output to be compared to consution matrix 2.\n",
    "\n",
    "CONFUSION_MATRIX_2_CSV_PATH this should be the path to a csv file cointaining the conflusion matrix from one data output to be compared to consution matrix 1."
   ]
  },
  {
   "cell_type": "code",
   "execution_count": null,
   "id": "abfbc1b7",
   "metadata": {},
   "outputs": [],
   "source": [
    "CONFUSION_MATRIX_1_CSV_PATH = 'confusion_matrices/confusion_matrix_1.csv'\n",
    "CONFUSION_MATRIX_2_CSV_PATH = 'confusion_matrices/confusion_matrix_2.csv'\n"
   ]
  },
  {
   "cell_type": "code",
   "execution_count": null,
   "id": "dbe48559",
   "metadata": {},
   "outputs": [],
   "source": [
    "import pandas as pd\n",
    "confusion_matrix_1 = pd.read_csv(CONFUSION_MATRIX_1_CSV_PATH)\n",
    "confusion_matrix_2 = pd.read_csv(CONFUSION_MATRIX_2_CSV_PATH)"
   ]
  },
  {
   "cell_type": "code",
   "execution_count": null,
   "id": "72dc7bb6",
   "metadata": {},
   "outputs": [],
   "source": [
    "# the number of columns will vary depending on the size of the matrix\n",
    "confusion_matrix_1_initial = confusion_matrix_1.iloc[0:6,1:7]\n",
    "\n",
    "confusion_matrix_1_initial"
   ]
  },
  {
   "cell_type": "code",
   "execution_count": null,
   "id": "9fffe1fc",
   "metadata": {},
   "outputs": [],
   "source": [
    "import numpy as np\n",
    "\n",
    "confusion_matrix_1_np = confusion_matrix_1_initial.to_numpy()\n",
    "\n",
    "sum_TP_confusion_matrix_1 = confusion_matrix_1_np.diagonal().sum()\n",
    "\n",
    "print(sum_TP_confusion_matrix_1)\n"
   ]
  },
  {
   "cell_type": "code",
   "execution_count": null,
   "id": "0dcec49c",
   "metadata": {},
   "outputs": [],
   "source": [
    "confusion_matrix_2_initial = confusion_matrix_2.iloc[0:6,1:7]\n",
    "\n",
    "confusion_matrix_2_initial"
   ]
  },
  {
   "cell_type": "code",
   "execution_count": null,
   "id": "5e22d21c",
   "metadata": {},
   "outputs": [],
   "source": [
    "fd_np = confusion_matrix_2_initial.to_numpy()\n",
    "\n",
    "sum_TP_fd = fd_np.diagonal().sum()\n",
    "\n",
    "print(sum_TP_fd)\n"
   ]
  },
  {
   "cell_type": "code",
   "execution_count": null,
   "id": "798b3fc0",
   "metadata": {},
   "outputs": [],
   "source": [
    "difference = sum_TP_confusion_matrix_1 - sum_TP_fd\n",
    "f11_TP = sum_TP_fd - difference\n",
    "\n",
    "f11_TP"
   ]
  },
  {
   "cell_type": "code",
   "execution_count": null,
   "id": "3aa5ad5f",
   "metadata": {},
   "outputs": [],
   "source": [
    "total = confusion_matrix_1_initial.values.sum()"
   ]
  },
  {
   "cell_type": "code",
   "execution_count": null,
   "id": "ae05ea57",
   "metadata": {},
   "outputs": [],
   "source": [
    "f12_FN = sum_TP_confusion_matrix_1 - f11_TP\n",
    "f21_FP = sum_TP_fd - f11_TP\n",
    "\n",
    "f22_TN = total - f11_TP - f12_FN - f21_FP\n",
    "\n",
    "f22_TN"
   ]
  },
  {
   "cell_type": "code",
   "execution_count": null,
   "id": "0e5294e2",
   "metadata": {},
   "outputs": [],
   "source": [
    "print('f11 = ', f11_TP)\n",
    "print('f12 = ', f12_FN)\n",
    "print('f21 = ', f21_FP)\n",
    "print('f22 = ', f22_TN)"
   ]
  },
  {
   "cell_type": "code",
   "execution_count": null,
   "id": "612dfe11",
   "metadata": {},
   "outputs": [],
   "source": [
    "import math\n",
    "\n",
    "z = (f12_FN - f21_FP)/math.sqrt(f12_FN + f21_FP)\n",
    "\n",
    "z"
   ]
  },
  {
   "cell_type": "code",
   "execution_count": null,
   "id": "ac6d7e22",
   "metadata": {},
   "outputs": [],
   "source": [
    "# if z is greater than 3.481, then it is statistically significant diffierent at 0.05 level (1 degree of freedom chi2 table)\n",
    "# i.e. the classifiers have statsitically significane different outcomes"
   ]
  },
  {
   "cell_type": "code",
   "execution_count": null,
   "id": "4a605c99",
   "metadata": {},
   "outputs": [],
   "source": [
    "# for classifer performances\n",
    "\n",
    "x2 = (f12_FN - f21_FP - 1)**2/(f12_FN + f21_FP)\n",
    "\n",
    "x2"
   ]
  },
  {
   "cell_type": "code",
   "execution_count": null,
   "id": "e04a7977",
   "metadata": {},
   "outputs": [],
   "source": [
    "# alternative formula\n",
    "\n",
    "x2 = (f12_FN - f21_FP)**2/(f12_FN + f21_FP)\n",
    "\n",
    "x2"
   ]
  },
  {
   "cell_type": "code",
   "execution_count": null,
   "id": "e2d9d8c4",
   "metadata": {},
   "outputs": [],
   "source": []
  }
 ],
 "metadata": {
  "kernelspec": {
   "display_name": "Python 3 (ipykernel)",
   "language": "python",
   "name": "python3"
  },
  "language_info": {
   "codemirror_mode": {
    "name": "ipython",
    "version": 3
   },
   "file_extension": ".py",
   "mimetype": "text/x-python",
   "name": "python",
   "nbconvert_exporter": "python",
   "pygments_lexer": "ipython3",
   "version": "3.8.10"
  },
  "varInspector": {
   "cols": {
    "lenName": 16,
    "lenType": 16,
    "lenVar": 40
   },
   "kernels_config": {
    "python": {
     "delete_cmd_postfix": "",
     "delete_cmd_prefix": "del ",
     "library": "var_list.py",
     "varRefreshCmd": "print(var_dic_list())"
    },
    "r": {
     "delete_cmd_postfix": ") ",
     "delete_cmd_prefix": "rm(",
     "library": "var_list.r",
     "varRefreshCmd": "cat(var_dic_list()) "
    }
   },
   "types_to_exclude": [
    "module",
    "function",
    "builtin_function_or_method",
    "instance",
    "_Feature"
   ],
   "window_display": false
  }
 },
 "nbformat": 4,
 "nbformat_minor": 5
}
