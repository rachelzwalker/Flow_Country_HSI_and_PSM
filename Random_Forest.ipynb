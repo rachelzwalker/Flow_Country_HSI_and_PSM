{
 "cells": [
  {
   "cell_type": "markdown",
   "id": "dd44b714",
   "metadata": {},
   "source": [
    "# Random Forest Classification\n",
    "\n",
    "## Usage\n",
    "\n",
    "Update the constants below to work with your file structure\n",
    "\n",
    "PATH_TO_PYCHARM_LIBRARY this is the file path to the PyCharm library to be used\n",
    "\n",
    "DATA_TRANSFORMATIONS this should contain the name of the transformation, the train_test data (csv) for this transformation and the full dataset for the site for this transformation. This can include any number of transformations, minimum input is one.\n",
    "\n",
    "SITE_NAME this is the location to be added to the name of the output file.\n",
    "\n",
    "TEST_SIZE this is the size of the testing data e.g. 0.3 (30% testing, 70% training)\n",
    "\n",
    "MAX_DEPTH this is the maximum tree depth e.g. 5\n",
    "\n",
    "CV = the internal cross validation e.g. 5\n",
    "\n",
    "OUTPUT_DIRECTORY this is the name of the file to which the random forest shape and csv files should be saved."
   ]
  },
  {
   "cell_type": "code",
   "execution_count": null,
   "id": "1089a657",
   "metadata": {},
   "outputs": [],
   "source": [
    "PATH_TO_PYCHARM_LIBRARY = cd /mnt/c/Users/.../hyperspectral_machine_learning\n",
    "\n",
    "DATA_TRANSFORMATIONS = [\n",
    "        original_data_transformation('original', 'train_test_data.csv', 'site_name.csv'),\n",
    "        derivative_data_transformation('first derivative', \n",
    "                                       'transformed_spectral_signatures/first_derivative_train_test.csv', \n",
    "                                       'transformed_spectral_signatures/first_derivative_site_name.csv'),\n",
    "        derivative_data_transformation('second derivative', \n",
    "                                       'transformed_spectral_signatures/second_derivative_train_test.csv', \n",
    "                                       'transformed_spectral_signatures/second_derivative_site_name.csv'),\n",
    "        derivative_data_transformation('continuum removal', \n",
    "                                       'transformed_spectral_signatures/continuum_removal_train_test.csv', \n",
    "                                       'transformed_spectral_signatures/continuum_removal_train_test_site_name.csv')\n",
    "    ]\n",
    "\n",
    "\n",
    "SITE_NAME = 'site_name'\n",
    "TEST_SIZE = 0.3\n",
    "MAX_DEPTH = 5\n",
    "CV = 5\n",
    "OUTPUT_DIRECTORY = 'outputs'\n"
   ]
  },
  {
   "cell_type": "code",
   "execution_count": 2,
   "id": "ef827dc4",
   "metadata": {},
   "outputs": [
    {
     "name": "stdout",
     "output_type": "stream",
     "text": [
      "/mnt/c/Users/rache/OneDrive - The University of Nottingham/MRes/Flow_Country_HSI_and_PSM/python_notebooks\n"
     ]
    }
   ],
   "source": [
    "PATH_TO_PYCHARM_LIBRARY"
   ]
  },
  {
   "cell_type": "code",
   "execution_count": 3,
   "id": "a031aa8a",
   "metadata": {},
   "outputs": [],
   "source": [
    "%load_ext autoreload\n",
    "%autoreload 2"
   ]
  },
  {
   "cell_type": "code",
   "execution_count": null,
   "id": "416ac803",
   "metadata": {},
   "outputs": [],
   "source": [
    "import importlib\n",
    "import hyperspectral_machine_learning as hml\n",
    "\n",
    "from hyperspectral_machine_learning.random_forest import original_data_transformation, derivative_data_transformation\n",
    "\n",
    "importlib.reload(hml)\n",
    "\n",
    "hml.random_forest.random_forest_csv_and_shape_file_outputs(SITE_NAME, DATA_TRANSFORMATIONS, TEST_SIZE, MAX_DEPTH, \n",
    "                                                           CV, OUTPUT_DIRECTORY)"
   ]
  }
 ],
 "metadata": {
  "kernelspec": {
   "display_name": "Python 3 (ipykernel)",
   "language": "python",
   "name": "python3"
  },
  "language_info": {
   "codemirror_mode": {
    "name": "ipython",
    "version": 3
   },
   "file_extension": ".py",
   "mimetype": "text/x-python",
   "name": "python",
   "nbconvert_exporter": "python",
   "pygments_lexer": "ipython3",
   "version": "3.8.10"
  },
  "varInspector": {
   "cols": {
    "lenName": 16,
    "lenType": 16,
    "lenVar": 40
   },
   "kernels_config": {
    "python": {
     "delete_cmd_postfix": "",
     "delete_cmd_prefix": "del ",
     "library": "var_list.py",
     "varRefreshCmd": "print(var_dic_list())"
    },
    "r": {
     "delete_cmd_postfix": ") ",
     "delete_cmd_prefix": "rm(",
     "library": "var_list.r",
     "varRefreshCmd": "cat(var_dic_list()) "
    }
   },
   "types_to_exclude": [
    "module",
    "function",
    "builtin_function_or_method",
    "instance",
    "_Feature"
   ],
   "window_display": false
  }
 },
 "nbformat": 4,
 "nbformat_minor": 5
}
