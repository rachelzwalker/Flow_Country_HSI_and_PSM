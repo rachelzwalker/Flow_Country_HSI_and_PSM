{
 "cells": [
  {
   "cell_type": "markdown",
   "id": "ed1fd3cc",
   "metadata": {},
   "source": [
    "# K-means Clustering\n",
    "\n",
    "## Usage\n",
    "\n",
    "Update the constants below to work with your file structure\n",
    "\n",
    "HYPERSPECRAL_VECTOR_CSV_PATH this should be the path to a csv file cointaining the hyperspectral data to be clustered using the k-means algorithm\n",
    "PSM_DATA_CSV_PATH this should be the path to a csv containing the PSM data to be clustered using the k-means algorithm\n",
    "OUTPUT_SHP_PATH_CLUSTER this will be where the generated data is placed for the cluster analysis as a shape file to be used in GIS. \n",
    "OUTPUT_CSV_PATH_CLUSTER this will be where the generated data is placed for the cluster analysis."
   ]
  },
  {
   "cell_type": "code",
   "execution_count": null,
   "id": "9afbdabb",
   "metadata": {},
   "outputs": [],
   "source": [
    "HYPERSPECRAL_VECTOR_CSV_PATH = 'preprocessed_data/site_with_hyperspectral_data.csv'\n",
    "PSM_DATA_CSV_PATH = 'preprocessed_data/site_with_psm_data.csv'\n",
    "\n",
    "OUTPUT_SHP_PATH_CLUSTER = 'outputs/clusters.shp'\n",
    "OUTPUT_CSV_PATH_CLUSTER = 'outputs/clusters.csv'"
   ]
  },
  {
   "cell_type": "code",
   "execution_count": null,
   "id": "a8479d41",
   "metadata": {},
   "outputs": [],
   "source": [
    "# Set your k value here e.g. k = 10\n",
    "\n",
    "k = 10"
   ]
  },
  {
   "cell_type": "code",
   "execution_count": null,
   "id": "755b93c5",
   "metadata": {},
   "outputs": [],
   "source": [
    "import pandas as pd\n",
    "import geopandas\n",
    "\n",
    "data = pd.read_csv(HYPERSPECRAL_VECTOR_CSV_PATH)\n",
    "\n",
    "# data = pd.read_csv(PSM_DATA_CSV_PATH)\n",
    "data.head()\n"
   ]
  },
  {
   "cell_type": "code",
   "execution_count": null,
   "id": "3afd5a4a",
   "metadata": {},
   "outputs": [],
   "source": [
    "from sklearn.cluster import KMeans\n",
    "\n",
    "kmeans = KMeans(n_clusters=k)\n",
    "\n",
    "# Change the columns depending on which bands of hyperspectral/PSM data are to be clustered\n",
    "x = data[data.columns[1:359]]\n",
    "# x_vis = data[data.columns[6:66]]\n",
    "# x_RE = data[data.columns[62:76]]\n",
    "# x_NIR = data[data.columns[66:186]]\n",
    "# x_SWIR = data[data.columns[186:359]]\n",
    "\n",
    "# x_velocity = data[data.columns[6]].values.reshape(-1, 1)\n",
    "# x_amplitude = data[data.columns[3]].values.reshape(-1, 1)\n",
    "# x_all = data[data.columns[3:7]]\n",
    "\n",
    "y = kmeans.fit_predict(x)\n",
    "\n",
    "y_df = pd. DataFrame(y, columns=['Cluster'])\n",
    "\n",
    "data['Cluster'] = y_df\n",
    "\n",
    "print(data.head())"
   ]
  },
  {
   "cell_type": "code",
   "execution_count": null,
   "id": "fad48ed6",
   "metadata": {},
   "outputs": [],
   "source": [
    "y_df.describe()"
   ]
  },
  {
   "cell_type": "code",
   "execution_count": null,
   "id": "1f25c131",
   "metadata": {},
   "outputs": [],
   "source": [
    "data['geometry'] = geopandas.GeoSeries.from_wkt(data['geometry'])\n",
    "\n",
    "data_gdf = geopandas.GeoDataFrame(data, geometry='geometry')\n",
    "\n",
    "data_gdf.head()"
   ]
  },
  {
   "cell_type": "code",
   "execution_count": null,
   "id": "ff0e7acc",
   "metadata": {},
   "outputs": [],
   "source": [
    "data_gdf.to_file(OUTPUT_SHP_PATH_CLUSTER)"
   ]
  },
  {
   "cell_type": "code",
   "execution_count": null,
   "id": "f6dc285c",
   "metadata": {},
   "outputs": [],
   "source": [
    "data_gdf.to_csv(OUTPUT_CSV_PATH_CLUSTER)"
   ]
  }
 ],
 "metadata": {
  "kernelspec": {
   "display_name": "Python 3 (ipykernel)",
   "language": "python",
   "name": "python3"
  },
  "language_info": {
   "codemirror_mode": {
    "name": "ipython",
    "version": 3
   },
   "file_extension": ".py",
   "mimetype": "text/x-python",
   "name": "python",
   "nbconvert_exporter": "python",
   "pygments_lexer": "ipython3",
   "version": "3.8.10"
  },
  "varInspector": {
   "cols": {
    "lenName": 16,
    "lenType": 16,
    "lenVar": 40
   },
   "kernels_config": {
    "python": {
     "delete_cmd_postfix": "",
     "delete_cmd_prefix": "del ",
     "library": "var_list.py",
     "varRefreshCmd": "print(var_dic_list())"
    },
    "r": {
     "delete_cmd_postfix": ") ",
     "delete_cmd_prefix": "rm(",
     "library": "var_list.r",
     "varRefreshCmd": "cat(var_dic_list()) "
    }
   },
   "types_to_exclude": [
    "module",
    "function",
    "builtin_function_or_method",
    "instance",
    "_Feature"
   ],
   "window_display": false
  }
 },
 "nbformat": 4,
 "nbformat_minor": 5
}
